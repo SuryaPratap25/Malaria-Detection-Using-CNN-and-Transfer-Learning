{
 "cells": [
  {
   "cell_type": "code",
   "execution_count": 1,
   "metadata": {},
   "outputs": [],
   "source": [
    "# import the libraries as shown below\n",
    "\n",
    "from tensorflow.keras.layers import Input, Lambda, Dense, Flatten,Conv2D\n",
    "from tensorflow.keras.models import Model\n",
    "from tensorflow.keras.applications.vgg19 import VGG19\n",
    "from tensorflow.keras.applications.resnet50 import preprocess_input\n",
    "from tensorflow.keras.preprocessing import image\n",
    "from tensorflow.keras.preprocessing.image import ImageDataGenerator,load_img\n",
    "from tensorflow.keras.models import Sequential\n",
    "import numpy as np\n",
    "from glob import glob\n",
    "import matplotlib.pyplot as plt"
   ]
  },
  {
   "cell_type": "code",
   "execution_count": 2,
   "metadata": {},
   "outputs": [],
   "source": [
    "# re-size all the images to this\n",
    "IMAGE_SIZE = [224, 224]\n",
    "\n",
    "train_path = 'cell_images/Train'\n",
    "valid_path = 'cell_images/Test'\n"
   ]
  },
  {
   "cell_type": "code",
   "execution_count": 3,
   "metadata": {},
   "outputs": [],
   "source": [
    "# Import the Vgg 16 library as shown below and add preprocessing layer to the front of VGG\n",
    "# Here we will be using imagenet weights\n",
    "\n",
    "vggnet = VGG19(input_shape=IMAGE_SIZE + [3], weights='imagenet', include_top=False)\n",
    "\n",
    "\n"
   ]
  },
  {
   "cell_type": "code",
   "execution_count": 5,
   "metadata": {},
   "outputs": [],
   "source": [
    "# don't train existing weights\n",
    "for layer in vggnet.layers:\n",
    "    layer.trainable = False"
   ]
  },
  {
   "cell_type": "code",
   "execution_count": 6,
   "metadata": {},
   "outputs": [],
   "source": [
    "  # useful for getting number of output classes\n",
    "folders = glob('Dataset/Train/*')"
   ]
  },
  {
   "cell_type": "code",
   "execution_count": 7,
   "metadata": {},
   "outputs": [
    {
     "data": {
      "text/plain": [
       "['Dataset/Train/Parasite', 'Dataset/Train/Uninfected']"
      ]
     },
     "execution_count": 7,
     "metadata": {},
     "output_type": "execute_result"
    }
   ],
   "source": [
    "folders"
   ]
  },
  {
   "cell_type": "code",
   "execution_count": 9,
   "metadata": {},
   "outputs": [],
   "source": [
    "# our layers - you can add more if you want\n",
    "x = Flatten()(vggnet.output)"
   ]
  },
  {
   "cell_type": "code",
   "execution_count": 14,
   "metadata": {},
   "outputs": [],
   "source": [
    "prediction = Dense(len(folders), activation='softmax')(x)\n",
    "\n",
    "# create a model object\n",
    "model = Model(inputs=vggnet.input, outputs=prediction)"
   ]
  },
  {
   "cell_type": "code",
   "execution_count": 15,
   "metadata": {},
   "outputs": [
    {
     "name": "stdout",
     "output_type": "stream",
     "text": [
      "Model: \"functional_1\"\n",
      "_________________________________________________________________\n",
      "Layer (type)                 Output Shape              Param #   \n",
      "=================================================================\n",
      "input_1 (InputLayer)         [(None, 224, 224, 3)]     0         \n",
      "_________________________________________________________________\n",
      "block1_conv1 (Conv2D)        (None, 224, 224, 64)      1792      \n",
      "_________________________________________________________________\n",
      "block1_conv2 (Conv2D)        (None, 224, 224, 64)      36928     \n",
      "_________________________________________________________________\n",
      "block1_pool (MaxPooling2D)   (None, 112, 112, 64)      0         \n",
      "_________________________________________________________________\n",
      "block2_conv1 (Conv2D)        (None, 112, 112, 128)     73856     \n",
      "_________________________________________________________________\n",
      "block2_conv2 (Conv2D)        (None, 112, 112, 128)     147584    \n",
      "_________________________________________________________________\n",
      "block2_pool (MaxPooling2D)   (None, 56, 56, 128)       0         \n",
      "_________________________________________________________________\n",
      "block3_conv1 (Conv2D)        (None, 56, 56, 256)       295168    \n",
      "_________________________________________________________________\n",
      "block3_conv2 (Conv2D)        (None, 56, 56, 256)       590080    \n",
      "_________________________________________________________________\n",
      "block3_conv3 (Conv2D)        (None, 56, 56, 256)       590080    \n",
      "_________________________________________________________________\n",
      "block3_conv4 (Conv2D)        (None, 56, 56, 256)       590080    \n",
      "_________________________________________________________________\n",
      "block3_pool (MaxPooling2D)   (None, 28, 28, 256)       0         \n",
      "_________________________________________________________________\n",
      "block4_conv1 (Conv2D)        (None, 28, 28, 512)       1180160   \n",
      "_________________________________________________________________\n",
      "block4_conv2 (Conv2D)        (None, 28, 28, 512)       2359808   \n",
      "_________________________________________________________________\n",
      "block4_conv3 (Conv2D)        (None, 28, 28, 512)       2359808   \n",
      "_________________________________________________________________\n",
      "block4_conv4 (Conv2D)        (None, 28, 28, 512)       2359808   \n",
      "_________________________________________________________________\n",
      "block4_pool (MaxPooling2D)   (None, 14, 14, 512)       0         \n",
      "_________________________________________________________________\n",
      "block5_conv1 (Conv2D)        (None, 14, 14, 512)       2359808   \n",
      "_________________________________________________________________\n",
      "block5_conv2 (Conv2D)        (None, 14, 14, 512)       2359808   \n",
      "_________________________________________________________________\n",
      "block5_conv3 (Conv2D)        (None, 14, 14, 512)       2359808   \n",
      "_________________________________________________________________\n",
      "block5_conv4 (Conv2D)        (None, 14, 14, 512)       2359808   \n",
      "_________________________________________________________________\n",
      "block5_pool (MaxPooling2D)   (None, 7, 7, 512)         0         \n",
      "_________________________________________________________________\n",
      "flatten_1 (Flatten)          (None, 25088)             0         \n",
      "_________________________________________________________________\n",
      "dense_2 (Dense)              (None, 2)                 50178     \n",
      "=================================================================\n",
      "Total params: 20,074,562\n",
      "Trainable params: 50,178\n",
      "Non-trainable params: 20,024,384\n",
      "_________________________________________________________________\n"
     ]
    }
   ],
   "source": [
    "\n",
    "# view the structure of the model\n",
    "model.summary()\n"
   ]
  },
  {
   "cell_type": "code",
   "execution_count": 16,
   "metadata": {},
   "outputs": [],
   "source": [
    "from tensorflow.keras.layers import MaxPooling2D"
   ]
  },
  {
   "cell_type": "code",
   "execution_count": 17,
   "metadata": {},
   "outputs": [
    {
     "name": "stdout",
     "output_type": "stream",
     "text": [
      "Model: \"sequential\"\n",
      "_________________________________________________________________\n",
      "Layer (type)                 Output Shape              Param #   \n",
      "=================================================================\n",
      "conv2d (Conv2D)              (None, 224, 224, 16)      208       \n",
      "_________________________________________________________________\n",
      "max_pooling2d (MaxPooling2D) (None, 112, 112, 16)      0         \n",
      "_________________________________________________________________\n",
      "conv2d_1 (Conv2D)            (None, 112, 112, 32)      2080      \n",
      "_________________________________________________________________\n",
      "max_pooling2d_1 (MaxPooling2 (None, 56, 56, 32)        0         \n",
      "_________________________________________________________________\n",
      "conv2d_2 (Conv2D)            (None, 56, 56, 64)        8256      \n",
      "_________________________________________________________________\n",
      "max_pooling2d_2 (MaxPooling2 (None, 28, 28, 64)        0         \n",
      "_________________________________________________________________\n",
      "flatten_2 (Flatten)          (None, 50176)             0         \n",
      "_________________________________________________________________\n",
      "dense_3 (Dense)              (None, 500)               25088500  \n",
      "_________________________________________________________________\n",
      "dense_4 (Dense)              (None, 2)                 1002      \n",
      "=================================================================\n",
      "Total params: 25,100,046\n",
      "Trainable params: 25,100,046\n",
      "Non-trainable params: 0\n",
      "_________________________________________________________________\n"
     ]
    }
   ],
   "source": [
    "### Create Model from scratch using CNN\n",
    "model=Sequential()\n",
    "model.add(Conv2D(filters=16,kernel_size=2,padding=\"same\",activation=\"relu\",input_shape=(224,224,3)))\n",
    "model.add(MaxPooling2D(pool_size=2))\n",
    "model.add(Conv2D(filters=32,kernel_size=2,padding=\"same\",activation =\"relu\"))\n",
    "model.add(MaxPooling2D(pool_size=2))\n",
    "model.add(Conv2D(filters=64,kernel_size=2,padding=\"same\",activation=\"relu\"))\n",
    "model.add(MaxPooling2D(pool_size=2))\n",
    "model.add(Flatten())\n",
    "model.add(Dense(500,activation=\"relu\"))\n",
    "model.add(Dense(2,activation=\"softmax\"))\n",
    "model.summary()"
   ]
  },
  {
   "cell_type": "code",
   "execution_count": 18,
   "metadata": {},
   "outputs": [],
   "source": [
    "# tell the model what cost and optimization method to use\n",
    "model.compile(\n",
    "  loss='categorical_crossentropy',\n",
    "  optimizer='adam',\n",
    "  metrics=['accuracy']\n",
    ")\n"
   ]
  },
  {
   "cell_type": "code",
   "execution_count": 19,
   "metadata": {},
   "outputs": [],
   "source": [
    "# Use the Image Data Generator to import the images from the dataset\n",
    "from tensorflow.keras.preprocessing.image import ImageDataGenerator\n",
    "\n",
    "train_datagen = ImageDataGenerator(rescale = 1./255,\n",
    "                                   shear_range = 0.2,\n",
    "                                   zoom_range = 0.2,\n",
    "                                   horizontal_flip = True)\n",
    "\n",
    "test_datagen = ImageDataGenerator(rescale = 1./255)"
   ]
  },
  {
   "cell_type": "code",
   "execution_count": 20,
   "metadata": {},
   "outputs": [
    {
     "name": "stdout",
     "output_type": "stream",
     "text": [
      "Found 416 images belonging to 2 classes.\n"
     ]
    }
   ],
   "source": [
    "# Make sure you provide the same target size as initialied for the image size\n",
    "training_set = train_datagen.flow_from_directory('Dataset/Train',\n",
    "                                                 target_size = (224, 224),\n",
    "                                                 batch_size = 32,\n",
    "                                                 class_mode = 'categorical')"
   ]
  },
  {
   "cell_type": "code",
   "execution_count": 21,
   "metadata": {},
   "outputs": [
    {
     "data": {
      "text/plain": [
       "<tensorflow.python.keras.preprocessing.image.DirectoryIterator at 0x7f6cdc19a280>"
      ]
     },
     "execution_count": 21,
     "metadata": {},
     "output_type": "execute_result"
    }
   ],
   "source": [
    "training_set"
   ]
  },
  {
   "cell_type": "code",
   "execution_count": 22,
   "metadata": {},
   "outputs": [
    {
     "name": "stdout",
     "output_type": "stream",
     "text": [
      "Found 134 images belonging to 2 classes.\n"
     ]
    }
   ],
   "source": [
    "test_set = test_datagen.flow_from_directory('Dataset/Test',\n",
    "                                            target_size = (224, 224),\n",
    "                                            batch_size = 32,\n",
    "                                            class_mode = 'categorical')"
   ]
  },
  {
   "cell_type": "code",
   "execution_count": 24,
   "metadata": {
    "scrolled": true
   },
   "outputs": [
    {
     "name": "stdout",
     "output_type": "stream",
     "text": [
      "WARNING:tensorflow:From <ipython-input-24-69229fe26ea3>:3: Model.fit_generator (from tensorflow.python.keras.engine.training) is deprecated and will be removed in a future version.\n",
      "Instructions for updating:\n",
      "Please use Model.fit, which supports generators.\n",
      "Epoch 1/50\n",
      "13/13 [==============================] - 10s 757ms/step - loss: 4.4046 - accuracy: 0.4952 - val_loss: 1.0149 - val_accuracy: 0.3209\n",
      "Epoch 2/50\n",
      "13/13 [==============================] - 8s 598ms/step - loss: 0.7190 - accuracy: 0.5288 - val_loss: 0.6561 - val_accuracy: 0.6791\n",
      "Epoch 3/50\n",
      "13/13 [==============================] - 8s 602ms/step - loss: 0.6904 - accuracy: 0.5240 - val_loss: 0.6911 - val_accuracy: 0.5597\n",
      "Epoch 4/50\n",
      "13/13 [==============================] - 9s 671ms/step - loss: 0.6896 - accuracy: 0.5288 - val_loss: 0.6841 - val_accuracy: 0.5746\n",
      "Epoch 5/50\n",
      "13/13 [==============================] - 9s 679ms/step - loss: 0.6797 - accuracy: 0.5889 - val_loss: 0.7068 - val_accuracy: 0.4701\n",
      "Epoch 6/50\n",
      "13/13 [==============================] - 9s 681ms/step - loss: 0.6550 - accuracy: 0.6202 - val_loss: 0.6440 - val_accuracy: 0.6642\n",
      "Epoch 7/50\n",
      "13/13 [==============================] - 9s 680ms/step - loss: 0.6466 - accuracy: 0.6106 - val_loss: 0.7378 - val_accuracy: 0.4776\n",
      "Epoch 8/50\n",
      "13/13 [==============================] - 9s 680ms/step - loss: 0.6188 - accuracy: 0.6755 - val_loss: 0.6272 - val_accuracy: 0.6716\n",
      "Epoch 9/50\n",
      "13/13 [==============================] - 9s 680ms/step - loss: 0.6808 - accuracy: 0.5889 - val_loss: 0.6726 - val_accuracy: 0.5970\n",
      "Epoch 10/50\n",
      "13/13 [==============================] - 9s 681ms/step - loss: 0.6358 - accuracy: 0.6370 - val_loss: 0.7406 - val_accuracy: 0.5000\n",
      "Epoch 11/50\n",
      "13/13 [==============================] - 9s 683ms/step - loss: 0.6086 - accuracy: 0.6466 - val_loss: 0.7442 - val_accuracy: 0.5224\n",
      "Epoch 12/50\n",
      "13/13 [==============================] - 9s 682ms/step - loss: 0.6050 - accuracy: 0.6659 - val_loss: 0.9618 - val_accuracy: 0.4179\n",
      "Epoch 13/50\n",
      "13/13 [==============================] - 9s 680ms/step - loss: 0.6583 - accuracy: 0.6178 - val_loss: 0.8136 - val_accuracy: 0.4254\n",
      "Epoch 14/50\n",
      "13/13 [==============================] - 9s 685ms/step - loss: 0.5814 - accuracy: 0.6707 - val_loss: 0.7498 - val_accuracy: 0.4403\n",
      "Epoch 15/50\n",
      "13/13 [==============================] - 9s 678ms/step - loss: 0.6441 - accuracy: 0.6370 - val_loss: 0.6572 - val_accuracy: 0.6269\n",
      "Epoch 16/50\n",
      "13/13 [==============================] - 9s 680ms/step - loss: 0.6250 - accuracy: 0.6466 - val_loss: 0.7580 - val_accuracy: 0.5075\n",
      "Epoch 17/50\n",
      "13/13 [==============================] - 9s 682ms/step - loss: 0.6044 - accuracy: 0.6803 - val_loss: 0.7387 - val_accuracy: 0.5597\n",
      "Epoch 18/50\n",
      "13/13 [==============================] - 9s 684ms/step - loss: 0.6031 - accuracy: 0.6731 - val_loss: 0.6872 - val_accuracy: 0.5896\n",
      "Epoch 19/50\n",
      "13/13 [==============================] - 9s 679ms/step - loss: 0.6004 - accuracy: 0.6466 - val_loss: 0.6819 - val_accuracy: 0.6119\n",
      "Epoch 20/50\n",
      "13/13 [==============================] - 9s 679ms/step - loss: 0.6260 - accuracy: 0.6322 - val_loss: 0.6666 - val_accuracy: 0.5746\n",
      "Epoch 21/50\n",
      "13/13 [==============================] - 9s 682ms/step - loss: 0.5777 - accuracy: 0.7019 - val_loss: 0.6474 - val_accuracy: 0.5970\n",
      "Epoch 22/50\n",
      "13/13 [==============================] - 9s 695ms/step - loss: 0.5270 - accuracy: 0.7212 - val_loss: 0.6790 - val_accuracy: 0.6194\n",
      "Epoch 23/50\n",
      "13/13 [==============================] - 9s 685ms/step - loss: 0.4932 - accuracy: 0.7692 - val_loss: 0.8519 - val_accuracy: 0.5149\n",
      "Epoch 24/50\n",
      "13/13 [==============================] - 9s 683ms/step - loss: 0.4568 - accuracy: 0.7524 - val_loss: 0.9281 - val_accuracy: 0.5075\n",
      "Epoch 25/50\n",
      "13/13 [==============================] - 9s 680ms/step - loss: 0.4003 - accuracy: 0.8077 - val_loss: 0.8132 - val_accuracy: 0.5448\n",
      "Epoch 26/50\n",
      "13/13 [==============================] - 9s 684ms/step - loss: 0.3965 - accuracy: 0.8077 - val_loss: 1.0219 - val_accuracy: 0.4627\n",
      "Epoch 27/50\n",
      "13/13 [==============================] - 9s 687ms/step - loss: 0.3634 - accuracy: 0.8173 - val_loss: 0.6065 - val_accuracy: 0.6642\n",
      "Epoch 28/50\n",
      "13/13 [==============================] - 9s 680ms/step - loss: 0.4295 - accuracy: 0.7981 - val_loss: 0.5689 - val_accuracy: 0.6940\n",
      "Epoch 29/50\n",
      "13/13 [==============================] - 9s 685ms/step - loss: 0.3413 - accuracy: 0.8510 - val_loss: 0.8774 - val_accuracy: 0.5821\n",
      "Epoch 30/50\n",
      "13/13 [==============================] - 9s 684ms/step - loss: 0.3119 - accuracy: 0.8750 - val_loss: 0.8100 - val_accuracy: 0.6045\n",
      "Epoch 31/50\n",
      "13/13 [==============================] - 9s 722ms/step - loss: 0.3326 - accuracy: 0.8510 - val_loss: 0.6157 - val_accuracy: 0.7090\n",
      "Epoch 32/50\n",
      "13/13 [==============================] - 9s 686ms/step - loss: 0.2867 - accuracy: 0.8846 - val_loss: 0.6236 - val_accuracy: 0.6866\n",
      "Epoch 33/50\n",
      "13/13 [==============================] - 9s 677ms/step - loss: 0.2507 - accuracy: 0.9087 - val_loss: 0.7085 - val_accuracy: 0.6493\n",
      "Epoch 34/50\n",
      "13/13 [==============================] - 9s 679ms/step - loss: 0.3401 - accuracy: 0.8558 - val_loss: 0.4401 - val_accuracy: 0.7910\n",
      "Epoch 35/50\n",
      "13/13 [==============================] - 9s 673ms/step - loss: 0.2388 - accuracy: 0.9087 - val_loss: 1.0265 - val_accuracy: 0.6343\n",
      "Epoch 36/50\n",
      "13/13 [==============================] - 9s 677ms/step - loss: 0.2518 - accuracy: 0.8942 - val_loss: 1.5860 - val_accuracy: 0.3731\n",
      "Epoch 37/50\n",
      "13/13 [==============================] - 9s 673ms/step - loss: 0.6303 - accuracy: 0.6466 - val_loss: 0.6214 - val_accuracy: 0.6642\n",
      "Epoch 38/50\n",
      "13/13 [==============================] - 9s 674ms/step - loss: 0.5197 - accuracy: 0.7668 - val_loss: 0.6394 - val_accuracy: 0.5746\n",
      "Epoch 39/50\n",
      "13/13 [==============================] - 9s 677ms/step - loss: 0.3852 - accuracy: 0.8438 - val_loss: 0.3851 - val_accuracy: 0.8060\n",
      "Epoch 40/50\n",
      "13/13 [==============================] - 9s 680ms/step - loss: 0.2260 - accuracy: 0.9014 - val_loss: 0.2942 - val_accuracy: 0.8507\n",
      "Epoch 41/50\n",
      "13/13 [==============================] - 9s 680ms/step - loss: 0.1736 - accuracy: 0.9471 - val_loss: 0.3136 - val_accuracy: 0.8657\n",
      "Epoch 42/50\n",
      "13/13 [==============================] - 9s 676ms/step - loss: 0.1560 - accuracy: 0.9471 - val_loss: 0.6190 - val_accuracy: 0.7612\n",
      "Epoch 43/50\n",
      "13/13 [==============================] - 9s 675ms/step - loss: 0.1588 - accuracy: 0.9519 - val_loss: 0.3043 - val_accuracy: 0.8657\n",
      "Epoch 44/50\n",
      "13/13 [==============================] - 9s 677ms/step - loss: 0.2662 - accuracy: 0.9207 - val_loss: 0.7310 - val_accuracy: 0.5970\n",
      "Epoch 45/50\n",
      "13/13 [==============================] - 9s 674ms/step - loss: 0.4160 - accuracy: 0.8221 - val_loss: 0.5670 - val_accuracy: 0.6642\n",
      "Epoch 46/50\n",
      "13/13 [==============================] - 9s 681ms/step - loss: 0.3120 - accuracy: 0.8966 - val_loss: 0.5982 - val_accuracy: 0.6866\n",
      "Epoch 47/50\n",
      "13/13 [==============================] - 9s 673ms/step - loss: 0.2117 - accuracy: 0.9351 - val_loss: 0.5276 - val_accuracy: 0.7463\n",
      "Epoch 48/50\n",
      "13/13 [==============================] - 9s 673ms/step - loss: 0.1782 - accuracy: 0.9303 - val_loss: 0.3198 - val_accuracy: 0.8507\n",
      "Epoch 49/50\n",
      "13/13 [==============================] - 9s 674ms/step - loss: 0.1167 - accuracy: 0.9591 - val_loss: 0.3266 - val_accuracy: 0.8582\n",
      "Epoch 50/50\n",
      "13/13 [==============================] - 9s 677ms/step - loss: 0.1084 - accuracy: 0.9663 - val_loss: 0.3549 - val_accuracy: 0.8657\n"
     ]
    }
   ],
   "source": [
    "# fit the model\n",
    "# Run the cell. It will take some time to execute\n",
    "r = model.fit_generator(\n",
    "  training_set,\n",
    "  validation_data=test_set,\n",
    "  epochs=50,\n",
    "  steps_per_epoch=len(training_set),\n",
    "  validation_steps=len(test_set)\n",
    ")"
   ]
  },
  {
   "cell_type": "code",
   "execution_count": 25,
   "metadata": {},
   "outputs": [
    {
     "data": {
      "image/png": "[encoded data removed]",
      "text/plain": [
       "<Figure size 432x288 with 1 Axes>"
      ]
     },
     "metadata": {
      "needs_background": "light"
     },
     "output_type": "display_data"
    },
    {
     "data": {
      "image/png": "[encoded data removed]",
      "text/plain": [
       "<Figure size 432x288 with 1 Axes>"
      ]
     },
     "metadata": {
      "needs_background": "light"
     },
     "output_type": "display_data"
    },
    {
     "data": {
      "text/plain": [
       "<Figure size 432x288 with 0 Axes>"
      ]
     },
     "metadata": {},
     "output_type": "display_data"
    }
   ],
   "source": [
    "# plot the loss\n",
    "plt.plot(r.history['loss'], label='train loss')\n",
    "plt.plot(r.history['val_loss'], label='val loss')\n",
    "plt.legend()\n",
    "plt.show()\n",
    "plt.savefig('LossVal_loss')\n",
    "\n",
    "# plot the accuracy\n",
    "plt.plot(r.history['accuracy'], label='train acc')\n",
    "plt.plot(r.history['val_accuracy'], label='val acc')\n",
    "plt.legend()\n",
    "plt.show()\n",
    "plt.savefig('AccVal_acc')"
   ]
  },
  {
   "cell_type": "code",
   "execution_count": 26,
   "metadata": {},
   "outputs": [],
   "source": [
    "# save it as a h5 file\n",
    "\n",
    "\n",
    "from tensorflow.keras.models import load_model\n",
    "\n",
    "model.save('model_vgg19.h5')"
   ]
  },
  {
   "cell_type": "code",
   "execution_count": 40,
   "metadata": {},
   "outputs": [],
   "source": [
    "img=image.load_img('Dataset/Test/Uninfected/2.png',target_size=(224,224))"
   ]
  },
  {
   "cell_type": "code",
   "execution_count": 33,
   "metadata": {},
   "outputs": [
    {
     "data": {
      "text/plain": [
       "array([[[0., 0., 0.],\n",
       "        [0., 0., 0.],\n",
       "        [0., 0., 0.],\n",
       "        ...,\n",
       "        [0., 0., 0.],\n",
       "        [0., 0., 0.],\n",
       "        [0., 0., 0.]],\n",
       "\n",
       "       [[0., 0., 0.],\n",
       "        [0., 0., 0.],\n",
       "        [0., 0., 0.],\n",
       "        ...,\n",
       "        [0., 0., 0.],\n",
       "        [0., 0., 0.],\n",
       "        [0., 0., 0.]],\n",
       "\n",
       "       [[0., 0., 0.],\n",
       "        [0., 0., 0.],\n",
       "        [0., 0., 0.],\n",
       "        ...,\n",
       "        [0., 0., 0.],\n",
       "        [0., 0., 0.],\n",
       "        [0., 0., 0.]],\n",
       "\n",
       "       ...,\n",
       "\n",
       "       [[0., 0., 0.],\n",
       "        [0., 0., 0.],\n",
       "        [0., 0., 0.],\n",
       "        ...,\n",
       "        [0., 0., 0.],\n",
       "        [0., 0., 0.],\n",
       "        [0., 0., 0.]],\n",
       "\n",
       "       [[0., 0., 0.],\n",
       "        [0., 0., 0.],\n",
       "        [0., 0., 0.],\n",
       "        ...,\n",
       "        [0., 0., 0.],\n",
       "        [0., 0., 0.],\n",
       "        [0., 0., 0.]],\n",
       "\n",
       "       [[0., 0., 0.],\n",
       "        [0., 0., 0.],\n",
       "        [0., 0., 0.],\n",
       "        ...,\n",
       "        [0., 0., 0.],\n",
       "        [0., 0., 0.],\n",
       "        [0., 0., 0.]]], dtype=float32)"
      ]
     },
     "execution_count": 33,
     "metadata": {},
     "output_type": "execute_result"
    }
   ],
   "source": [
    "x=image.img_to_array(img)\n",
    "x"
   ]
  },
  {
   "cell_type": "code",
   "execution_count": 34,
   "metadata": {},
   "outputs": [
    {
     "data": {
      "text/plain": [
       "(224, 224, 3)"
      ]
     },
     "execution_count": 34,
     "metadata": {},
     "output_type": "execute_result"
    }
   ],
   "source": [
    "x.shape"
   ]
  },
  {
   "cell_type": "code",
   "execution_count": 35,
   "metadata": {},
   "outputs": [],
   "source": [
    "x=x/255"
   ]
  },
  {
   "cell_type": "code",
   "execution_count": 36,
   "metadata": {},
   "outputs": [
    {
     "data": {
      "text/plain": [
       "(1, 224, 224, 3)"
      ]
     },
     "execution_count": 36,
     "metadata": {},
     "output_type": "execute_result"
    }
   ],
   "source": [
    "x=np.expand_dims(x,axis=0)\n",
    "img_data=preprocess_input(x)\n",
    "img_data.shape"
   ]
  },
  {
   "cell_type": "code",
   "execution_count": 37,
   "metadata": {},
   "outputs": [
    {
     "data": {
      "text/plain": [
       "array([[0., 1.]], dtype=float32)"
      ]
     },
     "execution_count": 37,
     "metadata": {},
     "output_type": "execute_result"
    }
   ],
   "source": [
    "model.predict(img_data)"
   ]
  },
  {
   "cell_type": "code",
   "execution_count": 38,
   "metadata": {},
   "outputs": [],
   "source": [
    "a=np.argmax(model.predict(img_data), axis=1)"
   ]
  },
  {
   "cell_type": "code",
   "execution_count": 39,
   "metadata": {},
   "outputs": [
    {
     "name": "stdout",
     "output_type": "stream",
     "text": [
      "Uninfected\n"
     ]
    }
   ],
   "source": [
    "if(a==1):\n",
    "    print(\"Uninfected\")\n",
    "else:\n",
    "    print(\"Infected\")"
   ]
  },
  {
   "cell_type": "code",
   "execution_count": null,
   "metadata": {},
   "outputs": [],
   "source": []
  }
 ],
 "metadata": {
  "kernelspec": {
   "display_name": "Python 3",
   "language": "python",
   "name": "python3"
  },
  "language_info": {
   "codemirror_mode": {
    "name": "ipython",
    "version": 3
   },
   "file_extension": ".py",
   "mimetype": "text/x-python",
   "name": "python",
   "nbconvert_exporter": "python",
   "pygments_lexer": "ipython3",
   "version": "3.8.2"
  }
 },
 "nbformat": 4,
 "nbformat_minor": 2
}
